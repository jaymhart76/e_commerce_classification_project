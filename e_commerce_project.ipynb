{
 "cells": [
  {
   "cell_type": "markdown",
   "metadata": {
    "ExecuteTime": {
     "end_time": "2022-08-04T09:42:37.776927Z",
     "start_time": "2022-08-04T09:42:37.774309Z"
    }
   },
   "source": [
    "# E-commerce supply chain project\n",
    "### Jason Hart  <br>Phase_3<br>Cluade Fried ( Abhineet Kulkarni)"
   ]
  },
  {
   "cell_type": "markdown",
   "metadata": {},
   "source": [
    "## Introduction: In this project we have received a data set which contains information about various products that are being shipped out of warehouses and whether or not they are being received by the customer on time.<br> Objective:  Our objective is to create a classification model which can preict from the products features, wether or not it will be received by the customer on time.\n"
   ]
  },
  {
   "cell_type": "code",
   "execution_count": 1,
   "metadata": {
    "ExecuteTime": {
     "end_time": "2022-08-07T11:14:02.348814Z",
     "start_time": "2022-08-07T11:14:01.428152Z"
    }
   },
   "outputs": [
    {
     "name": "stderr",
     "output_type": "stream",
     "text": [
      "/Users/jasonhart/opt/anaconda3/envs/learn-env/lib/python3.8/site-packages/xgboost/compat.py:93: FutureWarning: pandas.Int64Index is deprecated and will be removed from pandas in a future version. Use pandas.Index with the appropriate dtype instead.\n",
      "  from pandas import MultiIndex, Int64Index\n"
     ]
    }
   ],
   "source": [
    "import numpy as np\n",
    "import pandas as pd\n",
    "import matplotlib.pyplot as plt\n",
    "import seaborn as sns\n",
    "from sklearn.preprocessing import StandardScaler, OneHotEncoder, FunctionTransformer\n",
    "from sklearn.model_selection import train_test_split, cross_val_score,\\\n",
    "GridSearchCV, RandomizedSearchCV\n",
    "from sklearn.impute import SimpleImputer\n",
    "from sklearn.linear_model import LogisticRegression\n",
    "from sklearn.tree import DecisionTreeClassifier\n",
    "from sklearn.naive_bayes import GaussianNB\n",
    "from sklearn.metrics import classification_report, confusion_matrix,\\\n",
    "accuracy_score, roc_curve, auc, plot_confusion_matrix, plot_roc_curve,\\\n",
    "r2_score, mean_squared_error, precision_score\n",
    "from sklearn.svm import SVC\n",
    "from sklearn.ensemble import RandomForestClassifier, RandomForestRegressor\n",
    "from sklearn.neighbors import KNeighborsClassifier, KNeighborsRegressor\n",
    "from sklearn.compose import ColumnTransformer\n",
    "from sklearn.pipeline import Pipeline\n",
    "from xgboost import XGBClassifier\n",
    "import warnings \n",
    "warnings.filterwarnings('ignore')\n",
    "%matplotlib inline\n",
    "import sklearn\n"
   ]
  },
  {
   "cell_type": "code",
   "execution_count": 2,
   "metadata": {
    "ExecuteTime": {
     "end_time": "2022-08-07T11:14:02.361937Z",
     "start_time": "2022-08-07T11:14:02.349876Z"
    }
   },
   "outputs": [],
   "source": [
    "df = pd.read_csv('e_commerce_shipments.csv', header = 1)"
   ]
  },
  {
   "cell_type": "code",
   "execution_count": 3,
   "metadata": {
    "ExecuteTime": {
     "end_time": "2022-08-07T11:14:02.373500Z",
     "start_time": "2022-08-07T11:14:02.365179Z"
    }
   },
   "outputs": [
    {
     "data": {
      "text/html": [
       "<div>\n",
       "<style scoped>\n",
       "    .dataframe tbody tr th:only-of-type {\n",
       "        vertical-align: middle;\n",
       "    }\n",
       "\n",
       "    .dataframe tbody tr th {\n",
       "        vertical-align: top;\n",
       "    }\n",
       "\n",
       "    .dataframe thead th {\n",
       "        text-align: right;\n",
       "    }\n",
       "</style>\n",
       "<table border=\"1\" class=\"dataframe\">\n",
       "  <thead>\n",
       "    <tr style=\"text-align: right;\">\n",
       "      <th></th>\n",
       "      <th>ID</th>\n",
       "      <th>Warehouse_block</th>\n",
       "      <th>Mode_of_Shipment</th>\n",
       "      <th>Customer_care_calls</th>\n",
       "      <th>Customer_rating</th>\n",
       "      <th>Cost_of_the_Product</th>\n",
       "      <th>Prior_purchases</th>\n",
       "      <th>Product_importance</th>\n",
       "      <th>Gender</th>\n",
       "      <th>Discount_offered</th>\n",
       "      <th>Weight_in_gms</th>\n",
       "      <th>Reached.on.Time_Y.N</th>\n",
       "    </tr>\n",
       "  </thead>\n",
       "  <tbody>\n",
       "    <tr>\n",
       "      <th>0</th>\n",
       "      <td>1</td>\n",
       "      <td>D</td>\n",
       "      <td>Flight</td>\n",
       "      <td>4</td>\n",
       "      <td>2</td>\n",
       "      <td>177</td>\n",
       "      <td>3</td>\n",
       "      <td>low</td>\n",
       "      <td>F</td>\n",
       "      <td>44</td>\n",
       "      <td>1233</td>\n",
       "      <td>1</td>\n",
       "    </tr>\n",
       "    <tr>\n",
       "      <th>1</th>\n",
       "      <td>2</td>\n",
       "      <td>F</td>\n",
       "      <td>Flight</td>\n",
       "      <td>4</td>\n",
       "      <td>5</td>\n",
       "      <td>216</td>\n",
       "      <td>2</td>\n",
       "      <td>low</td>\n",
       "      <td>M</td>\n",
       "      <td>59</td>\n",
       "      <td>3088</td>\n",
       "      <td>1</td>\n",
       "    </tr>\n",
       "    <tr>\n",
       "      <th>2</th>\n",
       "      <td>3</td>\n",
       "      <td>A</td>\n",
       "      <td>Flight</td>\n",
       "      <td>2</td>\n",
       "      <td>2</td>\n",
       "      <td>183</td>\n",
       "      <td>4</td>\n",
       "      <td>low</td>\n",
       "      <td>M</td>\n",
       "      <td>48</td>\n",
       "      <td>3374</td>\n",
       "      <td>1</td>\n",
       "    </tr>\n",
       "    <tr>\n",
       "      <th>3</th>\n",
       "      <td>4</td>\n",
       "      <td>B</td>\n",
       "      <td>Flight</td>\n",
       "      <td>3</td>\n",
       "      <td>3</td>\n",
       "      <td>176</td>\n",
       "      <td>4</td>\n",
       "      <td>medium</td>\n",
       "      <td>M</td>\n",
       "      <td>10</td>\n",
       "      <td>1177</td>\n",
       "      <td>1</td>\n",
       "    </tr>\n",
       "    <tr>\n",
       "      <th>4</th>\n",
       "      <td>5</td>\n",
       "      <td>C</td>\n",
       "      <td>Flight</td>\n",
       "      <td>2</td>\n",
       "      <td>2</td>\n",
       "      <td>184</td>\n",
       "      <td>3</td>\n",
       "      <td>medium</td>\n",
       "      <td>F</td>\n",
       "      <td>46</td>\n",
       "      <td>2484</td>\n",
       "      <td>1</td>\n",
       "    </tr>\n",
       "  </tbody>\n",
       "</table>\n",
       "</div>"
      ],
      "text/plain": [
       "   ID Warehouse_block Mode_of_Shipment  Customer_care_calls  Customer_rating  \\\n",
       "0   1               D           Flight                    4                2   \n",
       "1   2               F           Flight                    4                5   \n",
       "2   3               A           Flight                    2                2   \n",
       "3   4               B           Flight                    3                3   \n",
       "4   5               C           Flight                    2                2   \n",
       "\n",
       "   Cost_of_the_Product  Prior_purchases Product_importance Gender  \\\n",
       "0                  177                3                low      F   \n",
       "1                  216                2                low      M   \n",
       "2                  183                4                low      M   \n",
       "3                  176                4             medium      M   \n",
       "4                  184                3             medium      F   \n",
       "\n",
       "   Discount_offered  Weight_in_gms  Reached.on.Time_Y.N  \n",
       "0                44           1233                    1  \n",
       "1                59           3088                    1  \n",
       "2                48           3374                    1  \n",
       "3                10           1177                    1  \n",
       "4                46           2484                    1  "
      ]
     },
     "execution_count": 3,
     "metadata": {},
     "output_type": "execute_result"
    }
   ],
   "source": [
    "df.head()"
   ]
  },
  {
   "cell_type": "markdown",
   "metadata": {},
   "source": [
    "## Data EDA and visualization"
   ]
  },
  {
   "cell_type": "code",
   "execution_count": 4,
   "metadata": {
    "ExecuteTime": {
     "end_time": "2022-08-07T11:14:02.380972Z",
     "start_time": "2022-08-07T11:14:02.375108Z"
    }
   },
   "outputs": [
    {
     "data": {
      "text/html": [
       "<div>\n",
       "<style scoped>\n",
       "    .dataframe tbody tr th:only-of-type {\n",
       "        vertical-align: middle;\n",
       "    }\n",
       "\n",
       "    .dataframe tbody tr th {\n",
       "        vertical-align: top;\n",
       "    }\n",
       "\n",
       "    .dataframe thead th {\n",
       "        text-align: right;\n",
       "    }\n",
       "</style>\n",
       "<table border=\"1\" class=\"dataframe\">\n",
       "  <thead>\n",
       "    <tr style=\"text-align: right;\">\n",
       "      <th></th>\n",
       "      <th>ID</th>\n",
       "      <th>Warehouse_block</th>\n",
       "      <th>Mode_of_Shipment</th>\n",
       "      <th>Customer_care_calls</th>\n",
       "      <th>Customer_rating</th>\n",
       "      <th>Cost_of_the_Product</th>\n",
       "      <th>Prior_purchases</th>\n",
       "      <th>Product_importance</th>\n",
       "      <th>Gender</th>\n",
       "      <th>Discount_offered</th>\n",
       "      <th>Weight_in_gms</th>\n",
       "      <th>Reached.on.Time_Y.N</th>\n",
       "    </tr>\n",
       "  </thead>\n",
       "  <tbody>\n",
       "    <tr>\n",
       "      <th>0</th>\n",
       "      <td>1</td>\n",
       "      <td>D</td>\n",
       "      <td>Flight</td>\n",
       "      <td>4</td>\n",
       "      <td>2</td>\n",
       "      <td>177</td>\n",
       "      <td>3</td>\n",
       "      <td>low</td>\n",
       "      <td>F</td>\n",
       "      <td>44</td>\n",
       "      <td>1233</td>\n",
       "      <td>1</td>\n",
       "    </tr>\n",
       "    <tr>\n",
       "      <th>1</th>\n",
       "      <td>2</td>\n",
       "      <td>F</td>\n",
       "      <td>Flight</td>\n",
       "      <td>4</td>\n",
       "      <td>5</td>\n",
       "      <td>216</td>\n",
       "      <td>2</td>\n",
       "      <td>low</td>\n",
       "      <td>M</td>\n",
       "      <td>59</td>\n",
       "      <td>3088</td>\n",
       "      <td>1</td>\n",
       "    </tr>\n",
       "    <tr>\n",
       "      <th>2</th>\n",
       "      <td>3</td>\n",
       "      <td>A</td>\n",
       "      <td>Flight</td>\n",
       "      <td>2</td>\n",
       "      <td>2</td>\n",
       "      <td>183</td>\n",
       "      <td>4</td>\n",
       "      <td>low</td>\n",
       "      <td>M</td>\n",
       "      <td>48</td>\n",
       "      <td>3374</td>\n",
       "      <td>1</td>\n",
       "    </tr>\n",
       "    <tr>\n",
       "      <th>3</th>\n",
       "      <td>4</td>\n",
       "      <td>B</td>\n",
       "      <td>Flight</td>\n",
       "      <td>3</td>\n",
       "      <td>3</td>\n",
       "      <td>176</td>\n",
       "      <td>4</td>\n",
       "      <td>medium</td>\n",
       "      <td>M</td>\n",
       "      <td>10</td>\n",
       "      <td>1177</td>\n",
       "      <td>1</td>\n",
       "    </tr>\n",
       "    <tr>\n",
       "      <th>4</th>\n",
       "      <td>5</td>\n",
       "      <td>C</td>\n",
       "      <td>Flight</td>\n",
       "      <td>2</td>\n",
       "      <td>2</td>\n",
       "      <td>184</td>\n",
       "      <td>3</td>\n",
       "      <td>medium</td>\n",
       "      <td>F</td>\n",
       "      <td>46</td>\n",
       "      <td>2484</td>\n",
       "      <td>1</td>\n",
       "    </tr>\n",
       "  </tbody>\n",
       "</table>\n",
       "</div>"
      ],
      "text/plain": [
       "   ID Warehouse_block Mode_of_Shipment  Customer_care_calls  Customer_rating  \\\n",
       "0   1               D           Flight                    4                2   \n",
       "1   2               F           Flight                    4                5   \n",
       "2   3               A           Flight                    2                2   \n",
       "3   4               B           Flight                    3                3   \n",
       "4   5               C           Flight                    2                2   \n",
       "\n",
       "   Cost_of_the_Product  Prior_purchases Product_importance Gender  \\\n",
       "0                  177                3                low      F   \n",
       "1                  216                2                low      M   \n",
       "2                  183                4                low      M   \n",
       "3                  176                4             medium      M   \n",
       "4                  184                3             medium      F   \n",
       "\n",
       "   Discount_offered  Weight_in_gms  Reached.on.Time_Y.N  \n",
       "0                44           1233                    1  \n",
       "1                59           3088                    1  \n",
       "2                48           3374                    1  \n",
       "3                10           1177                    1  \n",
       "4                46           2484                    1  "
      ]
     },
     "execution_count": 4,
     "metadata": {},
     "output_type": "execute_result"
    }
   ],
   "source": [
    "df.head()"
   ]
  },
  {
   "cell_type": "code",
   "execution_count": 5,
   "metadata": {
    "ExecuteTime": {
     "end_time": "2022-08-07T11:14:02.392589Z",
     "start_time": "2022-08-07T11:14:02.382009Z"
    }
   },
   "outputs": [
    {
     "name": "stdout",
     "output_type": "stream",
     "text": [
      "<class 'pandas.core.frame.DataFrame'>\n",
      "RangeIndex: 10999 entries, 0 to 10998\n",
      "Data columns (total 12 columns):\n",
      " #   Column               Non-Null Count  Dtype \n",
      "---  ------               --------------  ----- \n",
      " 0   ID                   10999 non-null  int64 \n",
      " 1   Warehouse_block      10999 non-null  object\n",
      " 2   Mode_of_Shipment     10999 non-null  object\n",
      " 3   Customer_care_calls  10999 non-null  int64 \n",
      " 4   Customer_rating      10999 non-null  int64 \n",
      " 5   Cost_of_the_Product  10999 non-null  int64 \n",
      " 6   Prior_purchases      10999 non-null  int64 \n",
      " 7   Product_importance   10999 non-null  object\n",
      " 8   Gender               10999 non-null  object\n",
      " 9   Discount_offered     10999 non-null  int64 \n",
      " 10  Weight_in_gms        10999 non-null  int64 \n",
      " 11  Reached.on.Time_Y.N  10999 non-null  int64 \n",
      "dtypes: int64(8), object(4)\n",
      "memory usage: 1.0+ MB\n"
     ]
    }
   ],
   "source": [
    "df.info()"
   ]
  },
  {
   "cell_type": "code",
   "execution_count": 6,
   "metadata": {
    "ExecuteTime": {
     "end_time": "2022-08-07T11:14:02.409328Z",
     "start_time": "2022-08-07T11:14:02.393579Z"
    }
   },
   "outputs": [
    {
     "data": {
      "text/html": [
       "<div>\n",
       "<style scoped>\n",
       "    .dataframe tbody tr th:only-of-type {\n",
       "        vertical-align: middle;\n",
       "    }\n",
       "\n",
       "    .dataframe tbody tr th {\n",
       "        vertical-align: top;\n",
       "    }\n",
       "\n",
       "    .dataframe thead th {\n",
       "        text-align: right;\n",
       "    }\n",
       "</style>\n",
       "<table border=\"1\" class=\"dataframe\">\n",
       "  <thead>\n",
       "    <tr style=\"text-align: right;\">\n",
       "      <th></th>\n",
       "      <th>ID</th>\n",
       "      <th>Customer_care_calls</th>\n",
       "      <th>Customer_rating</th>\n",
       "      <th>Cost_of_the_Product</th>\n",
       "      <th>Prior_purchases</th>\n",
       "      <th>Discount_offered</th>\n",
       "      <th>Weight_in_gms</th>\n",
       "      <th>Reached.on.Time_Y.N</th>\n",
       "    </tr>\n",
       "  </thead>\n",
       "  <tbody>\n",
       "    <tr>\n",
       "      <th>count</th>\n",
       "      <td>10999.00000</td>\n",
       "      <td>10999.000000</td>\n",
       "      <td>10999.000000</td>\n",
       "      <td>10999.000000</td>\n",
       "      <td>10999.000000</td>\n",
       "      <td>10999.000000</td>\n",
       "      <td>10999.000000</td>\n",
       "      <td>10999.000000</td>\n",
       "    </tr>\n",
       "    <tr>\n",
       "      <th>mean</th>\n",
       "      <td>5500.00000</td>\n",
       "      <td>4.054459</td>\n",
       "      <td>2.990545</td>\n",
       "      <td>210.196836</td>\n",
       "      <td>3.567597</td>\n",
       "      <td>13.373216</td>\n",
       "      <td>3634.016729</td>\n",
       "      <td>0.596691</td>\n",
       "    </tr>\n",
       "    <tr>\n",
       "      <th>std</th>\n",
       "      <td>3175.28214</td>\n",
       "      <td>1.141490</td>\n",
       "      <td>1.413603</td>\n",
       "      <td>48.063272</td>\n",
       "      <td>1.522860</td>\n",
       "      <td>16.205527</td>\n",
       "      <td>1635.377251</td>\n",
       "      <td>0.490584</td>\n",
       "    </tr>\n",
       "    <tr>\n",
       "      <th>min</th>\n",
       "      <td>1.00000</td>\n",
       "      <td>2.000000</td>\n",
       "      <td>1.000000</td>\n",
       "      <td>96.000000</td>\n",
       "      <td>2.000000</td>\n",
       "      <td>1.000000</td>\n",
       "      <td>1001.000000</td>\n",
       "      <td>0.000000</td>\n",
       "    </tr>\n",
       "    <tr>\n",
       "      <th>25%</th>\n",
       "      <td>2750.50000</td>\n",
       "      <td>3.000000</td>\n",
       "      <td>2.000000</td>\n",
       "      <td>169.000000</td>\n",
       "      <td>3.000000</td>\n",
       "      <td>4.000000</td>\n",
       "      <td>1839.500000</td>\n",
       "      <td>0.000000</td>\n",
       "    </tr>\n",
       "    <tr>\n",
       "      <th>50%</th>\n",
       "      <td>5500.00000</td>\n",
       "      <td>4.000000</td>\n",
       "      <td>3.000000</td>\n",
       "      <td>214.000000</td>\n",
       "      <td>3.000000</td>\n",
       "      <td>7.000000</td>\n",
       "      <td>4149.000000</td>\n",
       "      <td>1.000000</td>\n",
       "    </tr>\n",
       "    <tr>\n",
       "      <th>75%</th>\n",
       "      <td>8249.50000</td>\n",
       "      <td>5.000000</td>\n",
       "      <td>4.000000</td>\n",
       "      <td>251.000000</td>\n",
       "      <td>4.000000</td>\n",
       "      <td>10.000000</td>\n",
       "      <td>5050.000000</td>\n",
       "      <td>1.000000</td>\n",
       "    </tr>\n",
       "    <tr>\n",
       "      <th>max</th>\n",
       "      <td>10999.00000</td>\n",
       "      <td>7.000000</td>\n",
       "      <td>5.000000</td>\n",
       "      <td>310.000000</td>\n",
       "      <td>10.000000</td>\n",
       "      <td>65.000000</td>\n",
       "      <td>7846.000000</td>\n",
       "      <td>1.000000</td>\n",
       "    </tr>\n",
       "  </tbody>\n",
       "</table>\n",
       "</div>"
      ],
      "text/plain": [
       "                ID  Customer_care_calls  Customer_rating  Cost_of_the_Product  \\\n",
       "count  10999.00000         10999.000000     10999.000000         10999.000000   \n",
       "mean    5500.00000             4.054459         2.990545           210.196836   \n",
       "std     3175.28214             1.141490         1.413603            48.063272   \n",
       "min        1.00000             2.000000         1.000000            96.000000   \n",
       "25%     2750.50000             3.000000         2.000000           169.000000   \n",
       "50%     5500.00000             4.000000         3.000000           214.000000   \n",
       "75%     8249.50000             5.000000         4.000000           251.000000   \n",
       "max    10999.00000             7.000000         5.000000           310.000000   \n",
       "\n",
       "       Prior_purchases  Discount_offered  Weight_in_gms  Reached.on.Time_Y.N  \n",
       "count     10999.000000      10999.000000   10999.000000         10999.000000  \n",
       "mean          3.567597         13.373216    3634.016729             0.596691  \n",
       "std           1.522860         16.205527    1635.377251             0.490584  \n",
       "min           2.000000          1.000000    1001.000000             0.000000  \n",
       "25%           3.000000          4.000000    1839.500000             0.000000  \n",
       "50%           3.000000          7.000000    4149.000000             1.000000  \n",
       "75%           4.000000         10.000000    5050.000000             1.000000  \n",
       "max          10.000000         65.000000    7846.000000             1.000000  "
      ]
     },
     "execution_count": 6,
     "metadata": {},
     "output_type": "execute_result"
    }
   ],
   "source": [
    "df.describe()"
   ]
  },
  {
   "cell_type": "code",
   "execution_count": 7,
   "metadata": {
    "ExecuteTime": {
     "end_time": "2022-08-07T11:14:02.413920Z",
     "start_time": "2022-08-07T11:14:02.412139Z"
    }
   },
   "outputs": [],
   "source": [
    "# plt.subplots(figsize= (8,6), dpi=200)\n",
    "# sns.heatmap(data = df.corr(), annot = True)\n",
    "# plt.show()"
   ]
  },
  {
   "cell_type": "code",
   "execution_count": 8,
   "metadata": {
    "ExecuteTime": {
     "end_time": "2022-08-07T11:14:02.417271Z",
     "start_time": "2022-08-07T11:14:02.415849Z"
    }
   },
   "outputs": [],
   "source": [
    "# sns.pairplot(df)\n",
    "# plt.show()"
   ]
  },
  {
   "cell_type": "code",
   "execution_count": null,
   "metadata": {},
   "outputs": [],
   "source": []
  },
  {
   "cell_type": "markdown",
   "metadata": {},
   "source": [
    "## Baseline Models"
   ]
  },
  {
   "cell_type": "markdown",
   "metadata": {},
   "source": [
    "### Utilizing a Logistics Regression as the initial baseline model"
   ]
  },
  {
   "cell_type": "code",
   "execution_count": 9,
   "metadata": {
    "ExecuteTime": {
     "end_time": "2022-08-07T11:14:02.420956Z",
     "start_time": "2022-08-07T11:14:02.418225Z"
    }
   },
   "outputs": [],
   "source": [
    "X= df.drop('Reached.on.Time_Y.N', axis = 1)\n",
    "y= df['Reached.on.Time_Y.N']"
   ]
  },
  {
   "cell_type": "code",
   "execution_count": 10,
   "metadata": {
    "ExecuteTime": {
     "end_time": "2022-08-07T11:14:02.423882Z",
     "start_time": "2022-08-07T11:14:02.422136Z"
    }
   },
   "outputs": [],
   "source": [
    "\n",
    "numerical = ['Customer_care_calls',\n",
    "             'Customer_rating',\n",
    "             'Cost_of_the_Product',\n",
    "             'Prior_purchases',\n",
    "             'Discount_offered',\n",
    "             'Weight_in_gms']\n",
    "cat = ['Warehouse_block', 'Mode_of_Shipment', 'Product_importance', 'Gender']"
   ]
  },
  {
   "cell_type": "markdown",
   "metadata": {},
   "source": [
    "Splitting data into categorical and numerical for modeling"
   ]
  },
  {
   "cell_type": "code",
   "execution_count": 11,
   "metadata": {
    "ExecuteTime": {
     "end_time": "2022-08-07T11:14:02.432904Z",
     "start_time": "2022-08-07T11:14:02.424869Z"
    }
   },
   "outputs": [],
   "source": [
    "X_dummies = pd.get_dummies(X.select_dtypes('object'), drop_first=True)\n",
    "X_dummies = pd.concat([X.select_dtypes('int'), X_dummies], axis = 1).drop('ID', axis = 1)"
   ]
  },
  {
   "cell_type": "code",
   "execution_count": 12,
   "metadata": {
    "ExecuteTime": {
     "end_time": "2022-08-07T11:14:02.439283Z",
     "start_time": "2022-08-07T11:14:02.433794Z"
    }
   },
   "outputs": [
    {
     "name": "stdout",
     "output_type": "stream",
     "text": [
      "<class 'pandas.core.frame.DataFrame'>\n",
      "RangeIndex: 10999 entries, 0 to 10998\n",
      "Data columns (total 15 columns):\n",
      " #   Column                     Non-Null Count  Dtype\n",
      "---  ------                     --------------  -----\n",
      " 0   Customer_care_calls        10999 non-null  int64\n",
      " 1   Customer_rating            10999 non-null  int64\n",
      " 2   Cost_of_the_Product        10999 non-null  int64\n",
      " 3   Prior_purchases            10999 non-null  int64\n",
      " 4   Discount_offered           10999 non-null  int64\n",
      " 5   Weight_in_gms              10999 non-null  int64\n",
      " 6   Warehouse_block_B          10999 non-null  uint8\n",
      " 7   Warehouse_block_C          10999 non-null  uint8\n",
      " 8   Warehouse_block_D          10999 non-null  uint8\n",
      " 9   Warehouse_block_F          10999 non-null  uint8\n",
      " 10  Mode_of_Shipment_Road      10999 non-null  uint8\n",
      " 11  Mode_of_Shipment_Ship      10999 non-null  uint8\n",
      " 12  Product_importance_low     10999 non-null  uint8\n",
      " 13  Product_importance_medium  10999 non-null  uint8\n",
      " 14  Gender_M                   10999 non-null  uint8\n",
      "dtypes: int64(6), uint8(9)\n",
      "memory usage: 612.4 KB\n"
     ]
    }
   ],
   "source": [
    "X_dummies.info()"
   ]
  },
  {
   "cell_type": "code",
   "execution_count": 13,
   "metadata": {
    "ExecuteTime": {
     "end_time": "2022-08-07T11:14:02.444605Z",
     "start_time": "2022-08-07T11:14:02.440246Z"
    }
   },
   "outputs": [],
   "source": [
    "\n",
    "X_train, X_test, y_train, y_test = train_test_split(X, y, test_size=.2, random_state= 1976)"
   ]
  },
  {
   "cell_type": "code",
   "execution_count": 14,
   "metadata": {
    "ExecuteTime": {
     "end_time": "2022-08-07T11:14:02.452392Z",
     "start_time": "2022-08-07T11:14:02.445434Z"
    }
   },
   "outputs": [
    {
     "data": {
      "text/html": [
       "<div>\n",
       "<style scoped>\n",
       "    .dataframe tbody tr th:only-of-type {\n",
       "        vertical-align: middle;\n",
       "    }\n",
       "\n",
       "    .dataframe tbody tr th {\n",
       "        vertical-align: top;\n",
       "    }\n",
       "\n",
       "    .dataframe thead th {\n",
       "        text-align: right;\n",
       "    }\n",
       "</style>\n",
       "<table border=\"1\" class=\"dataframe\">\n",
       "  <thead>\n",
       "    <tr style=\"text-align: right;\">\n",
       "      <th></th>\n",
       "      <th>Customer_care_calls</th>\n",
       "      <th>Customer_rating</th>\n",
       "      <th>Cost_of_the_Product</th>\n",
       "      <th>Prior_purchases</th>\n",
       "      <th>Discount_offered</th>\n",
       "      <th>Weight_in_gms</th>\n",
       "      <th>Warehouse_block_B</th>\n",
       "      <th>Warehouse_block_C</th>\n",
       "      <th>Warehouse_block_D</th>\n",
       "      <th>Warehouse_block_F</th>\n",
       "      <th>Mode_of_Shipment_Road</th>\n",
       "      <th>Mode_of_Shipment_Ship</th>\n",
       "      <th>Product_importance_low</th>\n",
       "      <th>Product_importance_medium</th>\n",
       "      <th>Gender_M</th>\n",
       "    </tr>\n",
       "  </thead>\n",
       "  <tbody>\n",
       "    <tr>\n",
       "      <th>0</th>\n",
       "      <td>4</td>\n",
       "      <td>2</td>\n",
       "      <td>177</td>\n",
       "      <td>3</td>\n",
       "      <td>44</td>\n",
       "      <td>1233</td>\n",
       "      <td>0</td>\n",
       "      <td>0</td>\n",
       "      <td>1</td>\n",
       "      <td>0</td>\n",
       "      <td>0</td>\n",
       "      <td>0</td>\n",
       "      <td>1</td>\n",
       "      <td>0</td>\n",
       "      <td>0</td>\n",
       "    </tr>\n",
       "    <tr>\n",
       "      <th>1</th>\n",
       "      <td>4</td>\n",
       "      <td>5</td>\n",
       "      <td>216</td>\n",
       "      <td>2</td>\n",
       "      <td>59</td>\n",
       "      <td>3088</td>\n",
       "      <td>0</td>\n",
       "      <td>0</td>\n",
       "      <td>0</td>\n",
       "      <td>1</td>\n",
       "      <td>0</td>\n",
       "      <td>0</td>\n",
       "      <td>1</td>\n",
       "      <td>0</td>\n",
       "      <td>1</td>\n",
       "    </tr>\n",
       "    <tr>\n",
       "      <th>2</th>\n",
       "      <td>2</td>\n",
       "      <td>2</td>\n",
       "      <td>183</td>\n",
       "      <td>4</td>\n",
       "      <td>48</td>\n",
       "      <td>3374</td>\n",
       "      <td>0</td>\n",
       "      <td>0</td>\n",
       "      <td>0</td>\n",
       "      <td>0</td>\n",
       "      <td>0</td>\n",
       "      <td>0</td>\n",
       "      <td>1</td>\n",
       "      <td>0</td>\n",
       "      <td>1</td>\n",
       "    </tr>\n",
       "    <tr>\n",
       "      <th>3</th>\n",
       "      <td>3</td>\n",
       "      <td>3</td>\n",
       "      <td>176</td>\n",
       "      <td>4</td>\n",
       "      <td>10</td>\n",
       "      <td>1177</td>\n",
       "      <td>1</td>\n",
       "      <td>0</td>\n",
       "      <td>0</td>\n",
       "      <td>0</td>\n",
       "      <td>0</td>\n",
       "      <td>0</td>\n",
       "      <td>0</td>\n",
       "      <td>1</td>\n",
       "      <td>1</td>\n",
       "    </tr>\n",
       "    <tr>\n",
       "      <th>4</th>\n",
       "      <td>2</td>\n",
       "      <td>2</td>\n",
       "      <td>184</td>\n",
       "      <td>3</td>\n",
       "      <td>46</td>\n",
       "      <td>2484</td>\n",
       "      <td>0</td>\n",
       "      <td>1</td>\n",
       "      <td>0</td>\n",
       "      <td>0</td>\n",
       "      <td>0</td>\n",
       "      <td>0</td>\n",
       "      <td>0</td>\n",
       "      <td>1</td>\n",
       "      <td>0</td>\n",
       "    </tr>\n",
       "    <tr>\n",
       "      <th>...</th>\n",
       "      <td>...</td>\n",
       "      <td>...</td>\n",
       "      <td>...</td>\n",
       "      <td>...</td>\n",
       "      <td>...</td>\n",
       "      <td>...</td>\n",
       "      <td>...</td>\n",
       "      <td>...</td>\n",
       "      <td>...</td>\n",
       "      <td>...</td>\n",
       "      <td>...</td>\n",
       "      <td>...</td>\n",
       "      <td>...</td>\n",
       "      <td>...</td>\n",
       "      <td>...</td>\n",
       "    </tr>\n",
       "    <tr>\n",
       "      <th>10994</th>\n",
       "      <td>4</td>\n",
       "      <td>1</td>\n",
       "      <td>252</td>\n",
       "      <td>5</td>\n",
       "      <td>1</td>\n",
       "      <td>1538</td>\n",
       "      <td>0</td>\n",
       "      <td>0</td>\n",
       "      <td>0</td>\n",
       "      <td>0</td>\n",
       "      <td>0</td>\n",
       "      <td>1</td>\n",
       "      <td>0</td>\n",
       "      <td>1</td>\n",
       "      <td>0</td>\n",
       "    </tr>\n",
       "    <tr>\n",
       "      <th>10995</th>\n",
       "      <td>4</td>\n",
       "      <td>1</td>\n",
       "      <td>232</td>\n",
       "      <td>5</td>\n",
       "      <td>6</td>\n",
       "      <td>1247</td>\n",
       "      <td>1</td>\n",
       "      <td>0</td>\n",
       "      <td>0</td>\n",
       "      <td>0</td>\n",
       "      <td>0</td>\n",
       "      <td>1</td>\n",
       "      <td>0</td>\n",
       "      <td>1</td>\n",
       "      <td>0</td>\n",
       "    </tr>\n",
       "    <tr>\n",
       "      <th>10996</th>\n",
       "      <td>5</td>\n",
       "      <td>4</td>\n",
       "      <td>242</td>\n",
       "      <td>5</td>\n",
       "      <td>4</td>\n",
       "      <td>1155</td>\n",
       "      <td>0</td>\n",
       "      <td>1</td>\n",
       "      <td>0</td>\n",
       "      <td>0</td>\n",
       "      <td>0</td>\n",
       "      <td>1</td>\n",
       "      <td>1</td>\n",
       "      <td>0</td>\n",
       "      <td>0</td>\n",
       "    </tr>\n",
       "    <tr>\n",
       "      <th>10997</th>\n",
       "      <td>5</td>\n",
       "      <td>2</td>\n",
       "      <td>223</td>\n",
       "      <td>6</td>\n",
       "      <td>2</td>\n",
       "      <td>1210</td>\n",
       "      <td>0</td>\n",
       "      <td>0</td>\n",
       "      <td>0</td>\n",
       "      <td>1</td>\n",
       "      <td>0</td>\n",
       "      <td>1</td>\n",
       "      <td>0</td>\n",
       "      <td>1</td>\n",
       "      <td>1</td>\n",
       "    </tr>\n",
       "    <tr>\n",
       "      <th>10998</th>\n",
       "      <td>2</td>\n",
       "      <td>5</td>\n",
       "      <td>155</td>\n",
       "      <td>5</td>\n",
       "      <td>6</td>\n",
       "      <td>1639</td>\n",
       "      <td>0</td>\n",
       "      <td>0</td>\n",
       "      <td>1</td>\n",
       "      <td>0</td>\n",
       "      <td>0</td>\n",
       "      <td>1</td>\n",
       "      <td>1</td>\n",
       "      <td>0</td>\n",
       "      <td>0</td>\n",
       "    </tr>\n",
       "  </tbody>\n",
       "</table>\n",
       "<p>10999 rows × 15 columns</p>\n",
       "</div>"
      ],
      "text/plain": [
       "       Customer_care_calls  Customer_rating  Cost_of_the_Product  \\\n",
       "0                        4                2                  177   \n",
       "1                        4                5                  216   \n",
       "2                        2                2                  183   \n",
       "3                        3                3                  176   \n",
       "4                        2                2                  184   \n",
       "...                    ...              ...                  ...   \n",
       "10994                    4                1                  252   \n",
       "10995                    4                1                  232   \n",
       "10996                    5                4                  242   \n",
       "10997                    5                2                  223   \n",
       "10998                    2                5                  155   \n",
       "\n",
       "       Prior_purchases  Discount_offered  Weight_in_gms  Warehouse_block_B  \\\n",
       "0                    3                44           1233                  0   \n",
       "1                    2                59           3088                  0   \n",
       "2                    4                48           3374                  0   \n",
       "3                    4                10           1177                  1   \n",
       "4                    3                46           2484                  0   \n",
       "...                ...               ...            ...                ...   \n",
       "10994                5                 1           1538                  0   \n",
       "10995                5                 6           1247                  1   \n",
       "10996                5                 4           1155                  0   \n",
       "10997                6                 2           1210                  0   \n",
       "10998                5                 6           1639                  0   \n",
       "\n",
       "       Warehouse_block_C  Warehouse_block_D  Warehouse_block_F  \\\n",
       "0                      0                  1                  0   \n",
       "1                      0                  0                  1   \n",
       "2                      0                  0                  0   \n",
       "3                      0                  0                  0   \n",
       "4                      1                  0                  0   \n",
       "...                  ...                ...                ...   \n",
       "10994                  0                  0                  0   \n",
       "10995                  0                  0                  0   \n",
       "10996                  1                  0                  0   \n",
       "10997                  0                  0                  1   \n",
       "10998                  0                  1                  0   \n",
       "\n",
       "       Mode_of_Shipment_Road  Mode_of_Shipment_Ship  Product_importance_low  \\\n",
       "0                          0                      0                       1   \n",
       "1                          0                      0                       1   \n",
       "2                          0                      0                       1   \n",
       "3                          0                      0                       0   \n",
       "4                          0                      0                       0   \n",
       "...                      ...                    ...                     ...   \n",
       "10994                      0                      1                       0   \n",
       "10995                      0                      1                       0   \n",
       "10996                      0                      1                       1   \n",
       "10997                      0                      1                       0   \n",
       "10998                      0                      1                       1   \n",
       "\n",
       "       Product_importance_medium  Gender_M  \n",
       "0                              0         0  \n",
       "1                              0         1  \n",
       "2                              0         1  \n",
       "3                              1         1  \n",
       "4                              1         0  \n",
       "...                          ...       ...  \n",
       "10994                          1         0  \n",
       "10995                          1         0  \n",
       "10996                          0         0  \n",
       "10997                          1         1  \n",
       "10998                          0         0  \n",
       "\n",
       "[10999 rows x 15 columns]"
      ]
     },
     "execution_count": 14,
     "metadata": {},
     "output_type": "execute_result"
    }
   ],
   "source": [
    "X_dummies"
   ]
  },
  {
   "cell_type": "markdown",
   "metadata": {},
   "source": [
    "creating pipelines for preprocessing"
   ]
  },
  {
   "cell_type": "code",
   "execution_count": 15,
   "metadata": {
    "ExecuteTime": {
     "end_time": "2022-08-07T11:14:02.455561Z",
     "start_time": "2022-08-07T11:14:02.453314Z"
    }
   },
   "outputs": [],
   "source": [
    "subpipe_num = Pipeline(steps=[('ss', StandardScaler())])\n",
    "subpipe_cat = Pipeline(steps=[('ohe', OneHotEncoder(drop='first',sparse=False, handle_unknown='error'))])"
   ]
  },
  {
   "cell_type": "code",
   "execution_count": 16,
   "metadata": {
    "ExecuteTime": {
     "end_time": "2022-08-07T11:14:02.458147Z",
     "start_time": "2022-08-07T11:14:02.456388Z"
    }
   },
   "outputs": [],
   "source": [
    "CT = ColumnTransformer(transformers=[('subpipe_num', subpipe_num, numerical),\n",
    "                                    ('subpipe_cat', subpipe_cat, cat)],\n",
    "                                    remainder='passthrough')"
   ]
  },
  {
   "cell_type": "code",
   "execution_count": 17,
   "metadata": {
    "ExecuteTime": {
     "end_time": "2022-08-07T11:14:02.460778Z",
     "start_time": "2022-08-07T11:14:02.459104Z"
    }
   },
   "outputs": [],
   "source": [
    "log_reg_pipe = Pipeline(steps=[('CT', CT),\n",
    "                               (\"log_reg\", LogisticRegression(random_state=1976))])"
   ]
  },
  {
   "cell_type": "code",
   "execution_count": 18,
   "metadata": {
    "ExecuteTime": {
     "end_time": "2022-08-07T11:14:02.538050Z",
     "start_time": "2022-08-07T11:14:02.461723Z"
    }
   },
   "outputs": [
    {
     "data": {
      "text/plain": [
       "Pipeline(steps=[('CT',\n",
       "                 ColumnTransformer(remainder='passthrough',\n",
       "                                   transformers=[('subpipe_num',\n",
       "                                                  Pipeline(steps=[('ss',\n",
       "                                                                   StandardScaler())]),\n",
       "                                                  ['Customer_care_calls',\n",
       "                                                   'Customer_rating',\n",
       "                                                   'Cost_of_the_Product',\n",
       "                                                   'Prior_purchases',\n",
       "                                                   'Discount_offered',\n",
       "                                                   'Weight_in_gms']),\n",
       "                                                 ('subpipe_cat',\n",
       "                                                  Pipeline(steps=[('ohe',\n",
       "                                                                   OneHotEncoder(drop='first',\n",
       "                                                                                 sparse=False))]),\n",
       "                                                  ['Warehouse_block',\n",
       "                                                   'Mode_of_Shipment',\n",
       "                                                   'Product_importance',\n",
       "                                                   'Gender'])])),\n",
       "                ('log_reg', LogisticRegression(random_state=1976))])"
      ]
     },
     "execution_count": 18,
     "metadata": {},
     "output_type": "execute_result"
    }
   ],
   "source": [
    "log_reg_pipe.fit(X_train, y_train)"
   ]
  },
  {
   "cell_type": "code",
   "execution_count": 19,
   "metadata": {
    "ExecuteTime": {
     "end_time": "2022-08-07T11:14:02.551513Z",
     "start_time": "2022-08-07T11:14:02.539053Z"
    }
   },
   "outputs": [],
   "source": [
    "y_preds_log = log_reg_pipe.predict(X_train)\n"
   ]
  },
  {
   "cell_type": "code",
   "execution_count": 20,
   "metadata": {
    "ExecuteTime": {
     "end_time": "2022-08-07T11:14:02.554686Z",
     "start_time": "2022-08-07T11:14:02.552474Z"
    }
   },
   "outputs": [],
   "source": [
    "def reports(y, x, model):\n",
    "    y_pred = model.predict(x)\n",
    "    cm = confusion_matrix(y, y_pred)\n",
    "    sns.heatmap(cm, annot = True, cmap='mako', fmt='g')\n",
    "\n",
    "    print(classification_report(y, y_pred))\n",
    "    plot_roc_curve(model, x, y)\n",
    "   \n",
    "    "
   ]
  },
  {
   "cell_type": "code",
   "execution_count": 21,
   "metadata": {
    "ExecuteTime": {
     "end_time": "2022-08-07T11:14:02.740553Z",
     "start_time": "2022-08-07T11:14:02.555532Z"
    }
   },
   "outputs": [
    {
     "name": "stdout",
     "output_type": "stream",
     "text": [
      "              precision    recall  f1-score   support\n",
      "\n",
      "           0       0.57      0.61      0.59      3536\n",
      "           1       0.73      0.69      0.71      5263\n",
      "\n",
      "    accuracy                           0.66      8799\n",
      "   macro avg       0.65      0.65      0.65      8799\n",
      "weighted avg       0.66      0.66      0.66      8799\n",
      "\n"
     ]
    },
    {
     "data": {
      "image/png": "[encoded data removed]",
      "text/plain": [
       "<Figure size 432x288 with 2 Axes>"
      ]
     },
     "metadata": {
      "needs_background": "light"
     },
     "output_type": "display_data"
    },
    {
     "data": {
      "image/png": "[encoded data removed]",
      "text/plain": [
       "<Figure size 432x288 with 1 Axes>"
      ]
     },
     "metadata": {
      "needs_background": "light"
     },
     "output_type": "display_data"
    }
   ],
   "source": [
    "reports(y_train, X_train, log_reg_pipe)"
   ]
  },
  {
   "cell_type": "markdown",
   "metadata": {},
   "source": [
    "So the basic model leaves a little something to be desired, the accuracy is only 65%"
   ]
  },
  {
   "cell_type": "markdown",
   "metadata": {},
   "source": [
    "## SVM modeling attempt to improve prediction"
   ]
  },
  {
   "cell_type": "markdown",
   "metadata": {},
   "source": [
    "Utilizing SVM modeling as attempt to improve model predictions"
   ]
  },
  {
   "cell_type": "code",
   "execution_count": 22,
   "metadata": {
    "ExecuteTime": {
     "end_time": "2022-08-07T11:14:02.747224Z",
     "start_time": "2022-08-07T11:14:02.745474Z"
    }
   },
   "outputs": [],
   "source": [
    "svm_reg_pipe = Pipeline(steps=[('CT', CT),\n",
    "                              ('svc', SVC())])"
   ]
  },
  {
   "cell_type": "code",
   "execution_count": 23,
   "metadata": {
    "ExecuteTime": {
     "end_time": "2022-08-07T11:14:04.253160Z",
     "start_time": "2022-08-07T11:14:02.750583Z"
    }
   },
   "outputs": [
    {
     "data": {
      "text/plain": [
       "Pipeline(steps=[('CT',\n",
       "                 ColumnTransformer(remainder='passthrough',\n",
       "                                   transformers=[('subpipe_num',\n",
       "                                                  Pipeline(steps=[('ss',\n",
       "                                                                   StandardScaler())]),\n",
       "                                                  ['Customer_care_calls',\n",
       "                                                   'Customer_rating',\n",
       "                                                   'Cost_of_the_Product',\n",
       "                                                   'Prior_purchases',\n",
       "                                                   'Discount_offered',\n",
       "                                                   'Weight_in_gms']),\n",
       "                                                 ('subpipe_cat',\n",
       "                                                  Pipeline(steps=[('ohe',\n",
       "                                                                   OneHotEncoder(drop='first',\n",
       "                                                                                 sparse=False))]),\n",
       "                                                  ['Warehouse_block',\n",
       "                                                   'Mode_of_Shipment',\n",
       "                                                   'Product_importance',\n",
       "                                                   'Gender'])])),\n",
       "                ('svc', SVC())])"
      ]
     },
     "execution_count": 23,
     "metadata": {},
     "output_type": "execute_result"
    }
   ],
   "source": [
    "svm_reg_pipe.fit(X_train, y_train)"
   ]
  },
  {
   "cell_type": "code",
   "execution_count": 24,
   "metadata": {
    "ExecuteTime": {
     "end_time": "2022-08-07T11:14:05.888175Z",
     "start_time": "2022-08-07T11:14:04.254105Z"
    }
   },
   "outputs": [
    {
     "name": "stdout",
     "output_type": "stream",
     "text": [
      "              precision    recall  f1-score   support\n",
      "\n",
      "           0       0.57      0.91      0.70      3536\n",
      "           1       0.90      0.53      0.67      5263\n",
      "\n",
      "    accuracy                           0.68      8799\n",
      "   macro avg       0.73      0.72      0.68      8799\n",
      "weighted avg       0.77      0.68      0.68      8799\n",
      "\n"
     ]
    },
    {
     "data": {
      "image/png": "[encoded data removed]",
      "text/plain": [
       "<Figure size 432x288 with 2 Axes>"
      ]
     },
     "metadata": {
      "needs_background": "light"
     },
     "output_type": "display_data"
    },
    {
     "data": {
      "image/png": "[encoded data removed]",
      "text/plain": [
       "<Figure size 432x288 with 1 Axes>"
      ]
     },
     "metadata": {
      "needs_background": "light"
     },
     "output_type": "display_data"
    }
   ],
   "source": [
    "reports(y_train, X_train, svm_reg_pipe)"
   ]
  },
  {
   "cell_type": "markdown",
   "metadata": {},
   "source": [
    "some model improvement, still struggling to eliminate fales negative which would cause us to assume that a product will be delivered late when it will not be, but this is in the customers favor and thus not as detrimental as if we predicted on time and it arrived late"
   ]
  },
  {
   "cell_type": "markdown",
   "metadata": {},
   "source": [
    "## Classifiers and model tuning"
   ]
  },
  {
   "cell_type": "markdown",
   "metadata": {
    "ExecuteTime": {
     "end_time": "2022-08-04T15:14:03.937759Z",
     "start_time": "2022-08-04T15:14:03.933018Z"
    }
   },
   "source": [
    "### Random Forest classifiers\n"
   ]
  },
  {
   "cell_type": "code",
   "execution_count": 25,
   "metadata": {
    "ExecuteTime": {
     "end_time": "2022-08-07T11:14:05.890801Z",
     "start_time": "2022-08-07T11:14:05.888964Z"
    }
   },
   "outputs": [],
   "source": [
    "rand_forest_parms = {\n",
    "                     'criterion': ['gini', 'entropy'],\n",
    "                     'max_depth':(6, 25, 50, 70),\n",
    "                     'min_samples_split': (2, 5, 10),\n",
    "                     'min_samples_leaf': (1, 2, 10)}"
   ]
  },
  {
   "cell_type": "code",
   "execution_count": 26,
   "metadata": {
    "ExecuteTime": {
     "end_time": "2022-08-07T11:14:05.893184Z",
     "start_time": "2022-08-07T11:14:05.891651Z"
    }
   },
   "outputs": [],
   "source": [
    "rfc_pipe = Pipeline(steps=[('CT', CT),\n",
    "                         ('rfc', RandomForestClassifier(\n",
    "                          ))])"
   ]
  },
  {
   "cell_type": "code",
   "execution_count": 27,
   "metadata": {
    "ExecuteTime": {
     "end_time": "2022-08-07T11:14:05.895942Z",
     "start_time": "2022-08-07T11:14:05.894015Z"
    }
   },
   "outputs": [
    {
     "data": {
      "text/plain": [
       "sklearn.ensemble._forest.RandomForestClassifier"
      ]
     },
     "execution_count": 27,
     "metadata": {},
     "output_type": "execute_result"
    }
   ],
   "source": [
    "RandomForestClassifier"
   ]
  },
  {
   "cell_type": "code",
   "execution_count": 28,
   "metadata": {
    "ExecuteTime": {
     "end_time": "2022-08-07T11:14:06.663712Z",
     "start_time": "2022-08-07T11:14:05.896902Z"
    }
   },
   "outputs": [
    {
     "data": {
      "text/plain": [
       "Pipeline(steps=[('CT',\n",
       "                 ColumnTransformer(remainder='passthrough',\n",
       "                                   transformers=[('subpipe_num',\n",
       "                                                  Pipeline(steps=[('ss',\n",
       "                                                                   StandardScaler())]),\n",
       "                                                  ['Customer_care_calls',\n",
       "                                                   'Customer_rating',\n",
       "                                                   'Cost_of_the_Product',\n",
       "                                                   'Prior_purchases',\n",
       "                                                   'Discount_offered',\n",
       "                                                   'Weight_in_gms']),\n",
       "                                                 ('subpipe_cat',\n",
       "                                                  Pipeline(steps=[('ohe',\n",
       "                                                                   OneHotEncoder(drop='first',\n",
       "                                                                                 sparse=False))]),\n",
       "                                                  ['Warehouse_block',\n",
       "                                                   'Mode_of_Shipment',\n",
       "                                                   'Product_importance',\n",
       "                                                   'Gender'])])),\n",
       "                ('rfc', RandomForestClassifier())])"
      ]
     },
     "execution_count": 28,
     "metadata": {},
     "output_type": "execute_result"
    }
   ],
   "source": [
    "rfc_pipe.fit(X_train, y_train)"
   ]
  },
  {
   "cell_type": "code",
   "execution_count": 29,
   "metadata": {
    "ExecuteTime": {
     "end_time": "2022-08-07T11:14:06.665978Z",
     "start_time": "2022-08-07T11:14:06.664555Z"
    }
   },
   "outputs": [],
   "source": [
    "rf = RandomForestClassifier()"
   ]
  },
  {
   "cell_type": "code",
   "execution_count": 30,
   "metadata": {
    "ExecuteTime": {
     "end_time": "2022-08-07T11:14:06.777962Z",
     "start_time": "2022-08-07T11:14:06.666758Z"
    }
   },
   "outputs": [
    {
     "data": {
      "text/plain": [
       "1.0"
      ]
     },
     "execution_count": 30,
     "metadata": {},
     "output_type": "execute_result"
    }
   ],
   "source": [
    "rfc_pipe.score(X_train, y_train)"
   ]
  },
  {
   "cell_type": "code",
   "execution_count": 31,
   "metadata": {
    "ExecuteTime": {
     "end_time": "2022-08-07T11:14:07.138643Z",
     "start_time": "2022-08-07T11:14:06.778975Z"
    }
   },
   "outputs": [
    {
     "name": "stdout",
     "output_type": "stream",
     "text": [
      "              precision    recall  f1-score   support\n",
      "\n",
      "           0       1.00      1.00      1.00      3536\n",
      "           1       1.00      1.00      1.00      5263\n",
      "\n",
      "    accuracy                           1.00      8799\n",
      "   macro avg       1.00      1.00      1.00      8799\n",
      "weighted avg       1.00      1.00      1.00      8799\n",
      "\n"
     ]
    },
    {
     "data": {
      "image/png": "[encoded data removed]",
      "text/plain": [
       "<Figure size 432x288 with 2 Axes>"
      ]
     },
     "metadata": {
      "needs_background": "light"
     },
     "output_type": "display_data"
    },
    {
     "data": {
      "image/png": "[encoded data removed]",
      "text/plain": [
       "<Figure size 432x288 with 1 Axes>"
      ]
     },
     "metadata": {
      "needs_background": "light"
     },
     "output_type": "display_data"
    }
   ],
   "source": [
    "reports(y_train, X_train, rfc_pipe)"
   ]
  },
  {
   "cell_type": "markdown",
   "metadata": {},
   "source": [
    "Althought this says that it is a perfect fit, it is due to overfitting of the hyperparameter, we will test the test set below to determine if this is actually a predictive model or if this is just overfitting"
   ]
  },
  {
   "cell_type": "code",
   "execution_count": 32,
   "metadata": {
    "ExecuteTime": {
     "end_time": "2022-08-07T11:14:07.342117Z",
     "start_time": "2022-08-07T11:14:07.139629Z"
    }
   },
   "outputs": [
    {
     "name": "stdout",
     "output_type": "stream",
     "text": [
      "              precision    recall  f1-score   support\n",
      "\n",
      "           0       0.57      0.77      0.65       900\n",
      "           1       0.79      0.60      0.68      1300\n",
      "\n",
      "    accuracy                           0.67      2200\n",
      "   macro avg       0.68      0.68      0.67      2200\n",
      "weighted avg       0.70      0.67      0.67      2200\n",
      "\n"
     ]
    },
    {
     "data": {
      "image/png": "[encoded data removed]",
      "text/plain": [
       "<Figure size 432x288 with 2 Axes>"
      ]
     },
     "metadata": {
      "needs_background": "light"
     },
     "output_type": "display_data"
    },
    {
     "data": {
      "image/png": "[encoded data removed]",
      "text/plain": [
       "<Figure size 432x288 with 1 Axes>"
      ]
     },
     "metadata": {
      "needs_background": "light"
     },
     "output_type": "display_data"
    }
   ],
   "source": [
    "reports(y_test, X_test, rfc_pipe)"
   ]
  },
  {
   "cell_type": "markdown",
   "metadata": {},
   "source": [
    "As expected the perfect fit above was due to overfitting and we have ended "
   ]
  },
  {
   "cell_type": "code",
   "execution_count": 33,
   "metadata": {
    "ExecuteTime": {
     "end_time": "2022-08-07T11:14:07.345272Z",
     "start_time": "2022-08-07T11:14:07.343274Z"
    }
   },
   "outputs": [],
   "source": [
    "rs_rf = RandomizedSearchCV(RandomForestClassifier(),\n",
    "                           param_distributions=rand_forest_parms,\n",
    "                           cv=5,\n",
    "                           n_iter=20,\n",
    "                           verbose=True)"
   ]
  },
  {
   "cell_type": "code",
   "execution_count": 34,
   "metadata": {
    "ExecuteTime": {
     "end_time": "2022-08-07T11:14:07.347940Z",
     "start_time": "2022-08-07T11:14:07.346259Z"
    }
   },
   "outputs": [],
   "source": [
    "rs_rf_pipe = Pipeline(steps=[('CT', CT),\n",
    "                            ('rs_rf', rs_rf)])"
   ]
  },
  {
   "cell_type": "code",
   "execution_count": 35,
   "metadata": {
    "ExecuteTime": {
     "end_time": "2022-08-07T11:14:57.611481Z",
     "start_time": "2022-08-07T11:14:07.348992Z"
    }
   },
   "outputs": [
    {
     "name": "stdout",
     "output_type": "stream",
     "text": [
      "Fitting 5 folds for each of 20 candidates, totalling 100 fits\n"
     ]
    },
    {
     "name": "stderr",
     "output_type": "stream",
     "text": [
      "[Parallel(n_jobs=1)]: Using backend SequentialBackend with 1 concurrent workers.\n",
      "[Parallel(n_jobs=1)]: Done 100 out of 100 | elapsed:   49.8s finished\n"
     ]
    },
    {
     "data": {
      "text/plain": [
       "Pipeline(steps=[('CT',\n",
       "                 ColumnTransformer(remainder='passthrough',\n",
       "                                   transformers=[('subpipe_num',\n",
       "                                                  Pipeline(steps=[('ss',\n",
       "                                                                   StandardScaler())]),\n",
       "                                                  ['Customer_care_calls',\n",
       "                                                   'Customer_rating',\n",
       "                                                   'Cost_of_the_Product',\n",
       "                                                   'Prior_purchases',\n",
       "                                                   'Discount_offered',\n",
       "                                                   'Weight_in_gms']),\n",
       "                                                 ('subpipe_cat',\n",
       "                                                  Pipeline(steps=[('ohe',\n",
       "                                                                   OneHotEncoder(drop='first',\n",
       "                                                                                 sparse=False))]),\n",
       "                                                  ['Warehouse_block',\n",
       "                                                   'Mode_of_Shipment',\n",
       "                                                   'Product_importance',\n",
       "                                                   'Gender'])])),\n",
       "                ('rs_rf',\n",
       "                 RandomizedSearchCV(cv=5, estimator=RandomForestClassifier(),\n",
       "                                    n_iter=20,\n",
       "                                    param_distributions={'criterion': ['gini',\n",
       "                                                                       'entropy'],\n",
       "                                                         'max_depth': (6, 25,\n",
       "                                                                       50, 70),\n",
       "                                                         'min_samples_leaf': (1,\n",
       "                                                                              2,\n",
       "                                                                              10),\n",
       "                                                         'min_samples_split': (2,\n",
       "                                                                               5,\n",
       "                                                                               10)},\n",
       "                                    verbose=True))])"
      ]
     },
     "execution_count": 35,
     "metadata": {},
     "output_type": "execute_result"
    }
   ],
   "source": [
    "rs_rf_pipe.fit(X_train, y_train)"
   ]
  },
  {
   "cell_type": "code",
   "execution_count": 36,
   "metadata": {
    "ExecuteTime": {
     "end_time": "2022-08-07T11:14:57.634768Z",
     "start_time": "2022-08-07T11:14:57.612353Z"
    }
   },
   "outputs": [
    {
     "data": {
      "text/plain": [
       "Pipeline(steps=[('CT',\n",
       "                 ColumnTransformer(remainder='passthrough',\n",
       "                                   transformers=[('subpipe_num',\n",
       "                                                  Pipeline(steps=[('ss',\n",
       "                                                                   StandardScaler())]),\n",
       "                                                  ['Customer_care_calls',\n",
       "                                                   'Customer_rating',\n",
       "                                                   'Cost_of_the_Product',\n",
       "                                                   'Prior_purchases',\n",
       "                                                   'Discount_offered',\n",
       "                                                   'Weight_in_gms']),\n",
       "                                                 ('subpipe_cat',\n",
       "                                                  Pipeline(steps=[('ohe',\n",
       "                                                                   OneHotEncoder(drop='first',\n",
       "                                                                                 sparse=False))]),\n",
       "                                                  ['Warehouse_block',\n",
       "                                                   'Mode_of_Shipment',\n",
       "                                                   'Product_importance',\n",
       "                                                   'Gender'])])),\n",
       "                ('rs_rf',\n",
       "                 RandomizedSearchCV(cv=5, estimator=RandomForestClassifier(),\n",
       "                                    n_iter=20,\n",
       "                                    param_distributions={'criterion': ['gini',\n",
       "                                                                       'entropy'],\n",
       "                                                         'max_depth': (6, 25,\n",
       "                                                                       50, 70),\n",
       "                                                         'min_samples_leaf': (1,\n",
       "                                                                              2,\n",
       "                                                                              10),\n",
       "                                                         'min_samples_split': (2,\n",
       "                                                                               5,\n",
       "                                                                               10)},\n",
       "                                    verbose=True))])"
      ]
     },
     "execution_count": 36,
     "metadata": {},
     "output_type": "execute_result"
    }
   ],
   "source": [
    "rs_rf_pipe"
   ]
  },
  {
   "cell_type": "code",
   "execution_count": 37,
   "metadata": {
    "ExecuteTime": {
     "end_time": "2022-08-07T11:14:57.894385Z",
     "start_time": "2022-08-07T11:14:57.635785Z"
    }
   },
   "outputs": [
    {
     "name": "stdout",
     "output_type": "stream",
     "text": [
      "              precision    recall  f1-score   support\n",
      "\n",
      "           0       0.57      1.00      0.73      3536\n",
      "           1       0.99      0.50      0.67      5263\n",
      "\n",
      "    accuracy                           0.70      8799\n",
      "   macro avg       0.78      0.75      0.70      8799\n",
      "weighted avg       0.83      0.70      0.69      8799\n",
      "\n"
     ]
    },
    {
     "data": {
      "image/png": "[encoded data removed]",
      "text/plain": [
       "<Figure size 432x288 with 2 Axes>"
      ]
     },
     "metadata": {
      "needs_background": "light"
     },
     "output_type": "display_data"
    },
    {
     "data": {
      "image/png": "[encoded data removed]",
      "text/plain": [
       "<Figure size 432x288 with 1 Axes>"
      ]
     },
     "metadata": {
      "needs_background": "light"
     },
     "output_type": "display_data"
    }
   ],
   "source": [
    "reports(y_train, X_train, rs_rf_pipe)"
   ]
  },
  {
   "cell_type": "code",
   "execution_count": 38,
   "metadata": {
    "ExecuteTime": {
     "end_time": "2022-08-07T11:14:57.898587Z",
     "start_time": "2022-08-07T11:14:57.895398Z"
    }
   },
   "outputs": [],
   "source": [
    "X_train_rs, X_test_rs, y_train_rs, y_test_rs = train_test_split(X_dummies, y)"
   ]
  },
  {
   "cell_type": "code",
   "execution_count": 39,
   "metadata": {
    "ExecuteTime": {
     "end_time": "2022-08-07T11:14:57.902286Z",
     "start_time": "2022-08-07T11:14:57.899531Z"
    }
   },
   "outputs": [],
   "source": [
    "n_estimators = [int(x) for x in np.linspace(start = 1, stop = 1000, num = 10)]\n",
    "max_features = ['auto', 'sqrt']\n",
    "max_depth = [int(x) for x in np.linspace(10, 110, num = 11)]\n",
    "max_depth.append(None)\n",
    "min_samples_split = [2, 5, 10]\n",
    "min_samples_leaf = [1, 2, 4]\n",
    "bootstrap = [True, False]\n",
    "\n"
   ]
  },
  {
   "cell_type": "code",
   "execution_count": 40,
   "metadata": {
    "ExecuteTime": {
     "end_time": "2022-08-07T11:14:57.905323Z",
     "start_time": "2022-08-07T11:14:57.903503Z"
    }
   },
   "outputs": [],
   "source": [
    "random_grid = {'n_estimators': n_estimators,\n",
    "               'max_features': max_features,\n",
    "               'max_depth': max_depth,\n",
    "               'min_samples_split': min_samples_split,\n",
    "               'min_samples_leaf': min_samples_leaf,\n",
    "               'bootstrap': bootstrap}"
   ]
  },
  {
   "cell_type": "code",
   "execution_count": 41,
   "metadata": {
    "ExecuteTime": {
     "end_time": "2022-08-07T11:14:57.908297Z",
     "start_time": "2022-08-07T11:14:57.906623Z"
    }
   },
   "outputs": [],
   "source": [
    "rfr = RandomForestRegressor()"
   ]
  },
  {
   "cell_type": "code",
   "execution_count": 42,
   "metadata": {
    "ExecuteTime": {
     "end_time": "2022-08-07T11:14:57.911386Z",
     "start_time": "2022-08-07T11:14:57.909385Z"
    }
   },
   "outputs": [],
   "source": [
    "rf_random = RandomizedSearchCV(estimator = rfr,\n",
    "                               param_distributions = random_grid,\n",
    "                               n_iter = 10,\n",
    "                               cv = 3,\n",
    "                               verbose=2,\n",
    "                               random_state=42,\n",
    "                               n_jobs = -1)\n"
   ]
  },
  {
   "cell_type": "code",
   "execution_count": 43,
   "metadata": {
    "ExecuteTime": {
     "end_time": "2022-08-07T11:15:33.064651Z",
     "start_time": "2022-08-07T11:14:57.913807Z"
    }
   },
   "outputs": [
    {
     "name": "stdout",
     "output_type": "stream",
     "text": [
      "Fitting 3 folds for each of 10 candidates, totalling 30 fits\n"
     ]
    },
    {
     "name": "stderr",
     "output_type": "stream",
     "text": [
      "[Parallel(n_jobs=-1)]: Using backend LokyBackend with 8 concurrent workers.\n",
      "[Parallel(n_jobs=-1)]: Done  30 out of  30 | elapsed:   27.2s finished\n"
     ]
    },
    {
     "data": {
      "text/plain": [
       "RandomizedSearchCV(cv=3, estimator=RandomForestRegressor(), n_jobs=-1,\n",
       "                   param_distributions={'bootstrap': [True, False],\n",
       "                                        'max_depth': [10, 20, 30, 40, 50, 60,\n",
       "                                                      70, 80, 90, 100, 110,\n",
       "                                                      None],\n",
       "                                        'max_features': ['auto', 'sqrt'],\n",
       "                                        'min_samples_leaf': [1, 2, 4],\n",
       "                                        'min_samples_split': [2, 5, 10],\n",
       "                                        'n_estimators': [1, 112, 223, 334, 445,\n",
       "                                                         556, 667, 778, 889,\n",
       "                                                         1000]},\n",
       "                   random_state=42, verbose=2)"
      ]
     },
     "execution_count": 43,
     "metadata": {},
     "output_type": "execute_result"
    }
   ],
   "source": [
    "rf_random.fit(X_train_rs, y_train_rs)"
   ]
  },
  {
   "cell_type": "code",
   "execution_count": 44,
   "metadata": {
    "ExecuteTime": {
     "end_time": "2022-08-07T11:15:33.068043Z",
     "start_time": "2022-08-07T11:15:33.065730Z"
    }
   },
   "outputs": [
    {
     "data": {
      "text/plain": [
       "{'n_estimators': 556,\n",
       " 'min_samples_split': 2,\n",
       " 'min_samples_leaf': 4,\n",
       " 'max_features': 'auto',\n",
       " 'max_depth': 100,\n",
       " 'bootstrap': True}"
      ]
     },
     "execution_count": 44,
     "metadata": {},
     "output_type": "execute_result"
    }
   ],
   "source": [
    "best_param_rs = rf_random.best_params_\n",
    "best_param_rs"
   ]
  },
  {
   "cell_type": "code",
   "execution_count": 45,
   "metadata": {
    "ExecuteTime": {
     "end_time": "2022-08-07T11:15:33.070470Z",
     "start_time": "2022-08-07T11:15:33.068868Z"
    }
   },
   "outputs": [],
   "source": [
    "rfg = RandomForestRegressor(n_estimators= 667,\n",
    "                             min_samples_split= 5,\n",
    "                             min_samples_leaf= 1,\n",
    "                             max_features= 'sqrt',\n",
    "                             max_depth= 30,\n",
    "                             bootstrap= True\n",
    ")"
   ]
  },
  {
   "cell_type": "code",
   "execution_count": 46,
   "metadata": {
    "ExecuteTime": {
     "end_time": "2022-08-07T11:15:36.027489Z",
     "start_time": "2022-08-07T11:15:33.071236Z"
    }
   },
   "outputs": [
    {
     "data": {
      "text/plain": [
       "RandomForestRegressor(max_depth=30, max_features='sqrt', min_samples_split=5,\n",
       "                      n_estimators=667)"
      ]
     },
     "execution_count": 46,
     "metadata": {},
     "output_type": "execute_result"
    }
   ],
   "source": [
    "rfg.fit(X_train_rs, y_train_rs)"
   ]
  },
  {
   "cell_type": "code",
   "execution_count": 47,
   "metadata": {
    "ExecuteTime": {
     "end_time": "2022-08-07T11:15:36.552119Z",
     "start_time": "2022-08-07T11:15:36.028296Z"
    }
   },
   "outputs": [
    {
     "data": {
      "text/plain": [
       "0.7377931243302508"
      ]
     },
     "execution_count": 47,
     "metadata": {},
     "output_type": "execute_result"
    }
   ],
   "source": [
    "rfg.score(X_train_rs, y_train_rs)"
   ]
  },
  {
   "cell_type": "code",
   "execution_count": 48,
   "metadata": {
    "ExecuteTime": {
     "end_time": "2022-08-07T11:15:36.753013Z",
     "start_time": "2022-08-07T11:15:36.553070Z"
    }
   },
   "outputs": [
    {
     "data": {
      "text/plain": [
       "0.21927425924684374"
      ]
     },
     "execution_count": 48,
     "metadata": {},
     "output_type": "execute_result"
    }
   ],
   "source": [
    "rfg.score(X_test_rs, y_test_rs)"
   ]
  },
  {
   "cell_type": "markdown",
   "metadata": {},
   "source": [
    "Running the Random Forest Regressor on the Train data provide very positive results, but once we ran it on the test data we were able to realize that the model was overfitten to the Train data and was a poor fit for the test data, so this model will not work going forward because it cannot predict data which it has not already seen. "
   ]
  },
  {
   "cell_type": "markdown",
   "metadata": {
    "ExecuteTime": {
     "end_time": "2022-08-04T15:20:46.960923Z",
     "start_time": "2022-08-04T15:20:46.957380Z"
    }
   },
   "source": [
    "### KNneighbors test"
   ]
  },
  {
   "cell_type": "code",
   "execution_count": 49,
   "metadata": {
    "ExecuteTime": {
     "end_time": "2022-08-07T11:15:36.756029Z",
     "start_time": "2022-08-07T11:15:36.753986Z"
    }
   },
   "outputs": [],
   "source": [
    "train_scores = []\n",
    "test_scores = []\n",
    "knn = KNeighborsClassifier()\n",
    "neighbors = range(1,21)"
   ]
  },
  {
   "cell_type": "code",
   "execution_count": 50,
   "metadata": {
    "ExecuteTime": {
     "end_time": "2022-08-07T11:15:41.123844Z",
     "start_time": "2022-08-07T11:15:36.757061Z"
    }
   },
   "outputs": [],
   "source": [
    "for i in neighbors:\n",
    "    knn.set_params(n_neighbors=i)\n",
    "    knn.fit(X_train_rs, y_train_rs )\n",
    "    train_scores.append(knn.score(X_train_rs, y_train_rs))\n",
    "    test_scores.append(knn.score(X_test_rs, y_test_rs))"
   ]
  },
  {
   "cell_type": "code",
   "execution_count": 51,
   "metadata": {
    "ExecuteTime": {
     "end_time": "2022-08-07T11:15:41.126848Z",
     "start_time": "2022-08-07T11:15:41.124746Z"
    }
   },
   "outputs": [
    {
     "data": {
      "text/plain": [
       "[1.0,\n",
       " 0.821917808219178,\n",
       " 0.8261607467571827,\n",
       " 0.776457752454843,\n",
       " 0.7800945569159898,\n",
       " 0.762395441871742,\n",
       " 0.762395441871742,\n",
       " 0.7462722754273245,\n",
       " 0.7450600072736089,\n",
       " 0.7357255424899988,\n",
       " 0.7375439447205722,\n",
       " 0.7308764698751363,\n",
       " 0.7286943871984483,\n",
       " 0.722148139168384,\n",
       " 0.7211783246454115,\n",
       " 0.7162080252151776,\n",
       " 0.7177839738150079,\n",
       " 0.7156018911383198,\n",
       " 0.7153594375075767,\n",
       " 0.7131773548308886]"
      ]
     },
     "execution_count": 51,
     "metadata": {},
     "output_type": "execute_result"
    }
   ],
   "source": [
    "train_scores"
   ]
  },
  {
   "cell_type": "code",
   "execution_count": 52,
   "metadata": {
    "ExecuteTime": {
     "end_time": "2022-08-07T11:15:41.234215Z",
     "start_time": "2022-08-07T11:15:41.127717Z"
    }
   },
   "outputs": [
    {
     "name": "stdout",
     "output_type": "stream",
     "text": [
      "Maximum KNN score on the test data: 66.65%\n"
     ]
    },
    {
     "data": {
      "image/png": "[encoded data removed]",
      "text/plain": [
       "<Figure size 432x288 with 1 Axes>"
      ]
     },
     "metadata": {
      "needs_background": "light"
     },
     "output_type": "display_data"
    }
   ],
   "source": [
    "plt.plot(neighbors, train_scores, label=\"Train score\")\n",
    "plt.plot(neighbors, test_scores, label=\"Test score\")\n",
    "plt.xticks(np.arange(1, 21, 1))\n",
    "plt.xlabel(\"Number of neighbors\")\n",
    "plt.ylabel(\"Model score\")\n",
    "plt.legend()\n",
    "\n",
    "print(f\"Maximum KNN score on the test data: {max(test_scores)*100:.2f}%\")"
   ]
  },
  {
   "cell_type": "markdown",
   "metadata": {},
   "source": [
    "Model not performing well on the test set, overfitting on the training set when their are only a few neaghbors involved, but as it adds neighbors even the Train nodel is performing at below a 75% prediction rate"
   ]
  },
  {
   "cell_type": "markdown",
   "metadata": {},
   "source": [
    "# Feature Importance"
   ]
  },
  {
   "cell_type": "code",
   "execution_count": 53,
   "metadata": {
    "ExecuteTime": {
     "end_time": "2022-08-07T11:15:41.236877Z",
     "start_time": "2022-08-07T11:15:41.235270Z"
    }
   },
   "outputs": [],
   "source": [
    "dt = DecisionTreeClassifier()"
   ]
  },
  {
   "cell_type": "code",
   "execution_count": 54,
   "metadata": {
    "ExecuteTime": {
     "end_time": "2022-08-07T11:15:41.269528Z",
     "start_time": "2022-08-07T11:15:41.237934Z"
    }
   },
   "outputs": [
    {
     "data": {
      "text/plain": [
       "DecisionTreeClassifier()"
      ]
     },
     "execution_count": 54,
     "metadata": {},
     "output_type": "execute_result"
    }
   ],
   "source": [
    "dt.fit(X_train_rs, y_train_rs)"
   ]
  },
  {
   "cell_type": "code",
   "execution_count": 55,
   "metadata": {
    "ExecuteTime": {
     "end_time": "2022-08-07T11:15:41.273149Z",
     "start_time": "2022-08-07T11:15:41.270391Z"
    }
   },
   "outputs": [],
   "source": [
    "feature_importance = pd.DataFrame(\n",
    "    dt.feature_importances_,\n",
    "    index = X_train_rs.columns,\n",
    "    columns=['Importance']).sort_values('Importance', ascending=False)\n"
   ]
  },
  {
   "cell_type": "code",
   "execution_count": 56,
   "metadata": {
    "ExecuteTime": {
     "end_time": "2022-08-07T11:15:41.278974Z",
     "start_time": "2022-08-07T11:15:41.274149Z"
    }
   },
   "outputs": [
    {
     "data": {
      "text/html": [
       "<div>\n",
       "<style scoped>\n",
       "    .dataframe tbody tr th:only-of-type {\n",
       "        vertical-align: middle;\n",
       "    }\n",
       "\n",
       "    .dataframe tbody tr th {\n",
       "        vertical-align: top;\n",
       "    }\n",
       "\n",
       "    .dataframe thead th {\n",
       "        text-align: right;\n",
       "    }\n",
       "</style>\n",
       "<table border=\"1\" class=\"dataframe\">\n",
       "  <thead>\n",
       "    <tr style=\"text-align: right;\">\n",
       "      <th></th>\n",
       "      <th>Importance</th>\n",
       "    </tr>\n",
       "  </thead>\n",
       "  <tbody>\n",
       "    <tr>\n",
       "      <th>Discount_offered</th>\n",
       "      <td>0.285920</td>\n",
       "    </tr>\n",
       "    <tr>\n",
       "      <th>Weight_in_gms</th>\n",
       "      <td>0.244354</td>\n",
       "    </tr>\n",
       "    <tr>\n",
       "      <th>Cost_of_the_Product</th>\n",
       "      <td>0.164651</td>\n",
       "    </tr>\n",
       "    <tr>\n",
       "      <th>Prior_purchases</th>\n",
       "      <td>0.056829</td>\n",
       "    </tr>\n",
       "    <tr>\n",
       "      <th>Customer_rating</th>\n",
       "      <td>0.054747</td>\n",
       "    </tr>\n",
       "    <tr>\n",
       "      <th>Customer_care_calls</th>\n",
       "      <td>0.047186</td>\n",
       "    </tr>\n",
       "    <tr>\n",
       "      <th>Gender_M</th>\n",
       "      <td>0.025778</td>\n",
       "    </tr>\n",
       "    <tr>\n",
       "      <th>Mode_of_Shipment_Ship</th>\n",
       "      <td>0.020332</td>\n",
       "    </tr>\n",
       "    <tr>\n",
       "      <th>Warehouse_block_F</th>\n",
       "      <td>0.018204</td>\n",
       "    </tr>\n",
       "    <tr>\n",
       "      <th>Warehouse_block_B</th>\n",
       "      <td>0.016986</td>\n",
       "    </tr>\n",
       "    <tr>\n",
       "      <th>Warehouse_block_C</th>\n",
       "      <td>0.014041</td>\n",
       "    </tr>\n",
       "    <tr>\n",
       "      <th>Product_importance_low</th>\n",
       "      <td>0.013502</td>\n",
       "    </tr>\n",
       "    <tr>\n",
       "      <th>Warehouse_block_D</th>\n",
       "      <td>0.013291</td>\n",
       "    </tr>\n",
       "    <tr>\n",
       "      <th>Product_importance_medium</th>\n",
       "      <td>0.012185</td>\n",
       "    </tr>\n",
       "    <tr>\n",
       "      <th>Mode_of_Shipment_Road</th>\n",
       "      <td>0.011996</td>\n",
       "    </tr>\n",
       "  </tbody>\n",
       "</table>\n",
       "</div>"
      ],
      "text/plain": [
       "                           Importance\n",
       "Discount_offered             0.285920\n",
       "Weight_in_gms                0.244354\n",
       "Cost_of_the_Product          0.164651\n",
       "Prior_purchases              0.056829\n",
       "Customer_rating              0.054747\n",
       "Customer_care_calls          0.047186\n",
       "Gender_M                     0.025778\n",
       "Mode_of_Shipment_Ship        0.020332\n",
       "Warehouse_block_F            0.018204\n",
       "Warehouse_block_B            0.016986\n",
       "Warehouse_block_C            0.014041\n",
       "Product_importance_low       0.013502\n",
       "Warehouse_block_D            0.013291\n",
       "Product_importance_medium    0.012185\n",
       "Mode_of_Shipment_Road        0.011996"
      ]
     },
     "execution_count": 56,
     "metadata": {},
     "output_type": "execute_result"
    }
   ],
   "source": [
    "feature_importance"
   ]
  },
  {
   "cell_type": "markdown",
   "metadata": {},
   "source": [
    "Looking at the Feature importance and utilizing inferential knowledge, such as the fact that the customer rating and the customer care calls will only come after the fact that the product has been delivered.  We will begin to model the prediction off of the top 4 features."
   ]
  },
  {
   "cell_type": "code",
   "execution_count": 57,
   "metadata": {
    "ExecuteTime": {
     "end_time": "2022-08-07T11:15:41.282220Z",
     "start_time": "2022-08-07T11:15:41.279906Z"
    }
   },
   "outputs": [],
   "source": [
    "X_imp = df[['Discount_offered', 'Weight_in_gms', 'Cost_of_the_Product', 'Prior_purchases']]"
   ]
  },
  {
   "cell_type": "code",
   "execution_count": 58,
   "metadata": {
    "ExecuteTime": {
     "end_time": "2022-08-07T11:15:41.285012Z",
     "start_time": "2022-08-07T11:15:41.283140Z"
    }
   },
   "outputs": [],
   "source": [
    "log_reg_pipe2 = Pipeline(steps=[('SS', StandardScaler()),\n",
    "                               ('Log_reg', LogisticRegression())])"
   ]
  },
  {
   "cell_type": "code",
   "execution_count": 59,
   "metadata": {
    "ExecuteTime": {
     "end_time": "2022-08-07T11:15:41.298129Z",
     "start_time": "2022-08-07T11:15:41.285964Z"
    }
   },
   "outputs": [
    {
     "data": {
      "text/plain": [
       "Pipeline(steps=[('SS', StandardScaler()), ('Log_reg', LogisticRegression())])"
      ]
     },
     "execution_count": 59,
     "metadata": {},
     "output_type": "execute_result"
    }
   ],
   "source": [
    "log_reg_pipe2.fit(X_imp, y)"
   ]
  },
  {
   "cell_type": "code",
   "execution_count": 60,
   "metadata": {
    "ExecuteTime": {
     "end_time": "2022-08-07T11:15:41.501660Z",
     "start_time": "2022-08-07T11:15:41.299146Z"
    }
   },
   "outputs": [
    {
     "name": "stdout",
     "output_type": "stream",
     "text": [
      "              precision    recall  f1-score   support\n",
      "\n",
      "           0       0.55      0.57      0.56      4436\n",
      "           1       0.70      0.68      0.69      6563\n",
      "\n",
      "    accuracy                           0.64     10999\n",
      "   macro avg       0.63      0.63      0.63     10999\n",
      "weighted avg       0.64      0.64      0.64     10999\n",
      "\n"
     ]
    },
    {
     "data": {
      "image/png": "[encoded data removed]",
      "text/plain": [
       "<Figure size 432x288 with 2 Axes>"
      ]
     },
     "metadata": {
      "needs_background": "light"
     },
     "output_type": "display_data"
    },
    {
     "data": {
      "image/png": "[encoded data removed]",
      "text/plain": [
       "<Figure size 432x288 with 1 Axes>"
      ]
     },
     "metadata": {
      "needs_background": "light"
     },
     "output_type": "display_data"
    }
   ],
   "source": [
    "reports(y, X_imp, log_reg_pipe2)"
   ]
  },
  {
   "cell_type": "markdown",
   "metadata": {},
   "source": [
    "Utilizing only the features with the Highest importance did very little to improve model"
   ]
  },
  {
   "cell_type": "markdown",
   "metadata": {},
   "source": [
    "## Naive Bayes Model running"
   ]
  },
  {
   "cell_type": "code",
   "execution_count": 61,
   "metadata": {
    "ExecuteTime": {
     "end_time": "2022-08-07T11:15:41.504443Z",
     "start_time": "2022-08-07T11:15:41.502695Z"
    }
   },
   "outputs": [],
   "source": [
    "\n",
    "nb_pipe = Pipeline(steps=[('ss', StandardScaler()),\n",
    "                         ('NB', GaussianNB())])"
   ]
  },
  {
   "cell_type": "code",
   "execution_count": 62,
   "metadata": {
    "ExecuteTime": {
     "end_time": "2022-08-07T11:15:41.512041Z",
     "start_time": "2022-08-07T11:15:41.505296Z"
    }
   },
   "outputs": [
    {
     "data": {
      "text/plain": [
       "Pipeline(steps=[('ss', StandardScaler()), ('NB', GaussianNB())])"
      ]
     },
     "execution_count": 62,
     "metadata": {},
     "output_type": "execute_result"
    }
   ],
   "source": [
    "nb_pipe.fit(X_imp, y)"
   ]
  },
  {
   "cell_type": "code",
   "execution_count": 63,
   "metadata": {
    "ExecuteTime": {
     "end_time": "2022-08-07T11:15:41.677541Z",
     "start_time": "2022-08-07T11:15:41.513487Z"
    }
   },
   "outputs": [
    {
     "name": "stdout",
     "output_type": "stream",
     "text": [
      "              precision    recall  f1-score   support\n",
      "\n",
      "           0       0.54      0.97      0.69      4436\n",
      "           1       0.96      0.43      0.60      6563\n",
      "\n",
      "    accuracy                           0.65     10999\n",
      "   macro avg       0.75      0.70      0.64     10999\n",
      "weighted avg       0.79      0.65      0.63     10999\n",
      "\n"
     ]
    },
    {
     "data": {
      "image/png": "[encoded data removed]",
      "text/plain": [
       "<Figure size 432x288 with 2 Axes>"
      ]
     },
     "metadata": {
      "needs_background": "light"
     },
     "output_type": "display_data"
    },
    {
     "data": {
      "image/png": "[encoded data removed]",
      "text/plain": [
       "<Figure size 432x288 with 1 Axes>"
      ]
     },
     "metadata": {
      "needs_background": "light"
     },
     "output_type": "display_data"
    }
   ],
   "source": [
    "reports(y, X_imp, nb_pipe)"
   ]
  },
  {
   "cell_type": "markdown",
   "metadata": {
    "ExecuteTime": {
     "end_time": "2022-08-07T11:15:41.682083Z",
     "start_time": "2022-08-07T11:15:41.678785Z"
    }
   },
   "source": [
    "Naive Bayes has given us a better model but is still predicting too many False positiv"
   ]
  },
  {
   "cell_type": "markdown",
   "metadata": {
    "ExecuteTime": {
     "end_time": "2022-08-05T14:54:10.544949Z",
     "start_time": "2022-08-05T14:54:10.540902Z"
    }
   },
   "source": [
    "# Utilizing XGboost to attempt to better the model"
   ]
  },
  {
   "cell_type": "code",
   "execution_count": 65,
   "metadata": {
    "ExecuteTime": {
     "end_time": "2022-08-07T11:33:12.869911Z",
     "start_time": "2022-08-07T11:33:12.858344Z"
    }
   },
   "outputs": [],
   "source": [
    "X_train_imp, X_test_imp, y_train_imp, y_test_imp = train_test_split(X_imp, y, test_size = .2, random_state = 1976)"
   ]
  },
  {
   "cell_type": "code",
   "execution_count": 68,
   "metadata": {
    "ExecuteTime": {
     "end_time": "2022-08-07T11:34:13.276020Z",
     "start_time": "2022-08-07T11:34:13.269859Z"
    }
   },
   "outputs": [],
   "source": [
    "pipe_xg = Pipeline(steps=[('SS', StandardScaler()),\n",
    "                         ('xg', XGBClassifier())])"
   ]
  },
  {
   "cell_type": "code",
   "execution_count": 69,
   "metadata": {
    "ExecuteTime": {
     "end_time": "2022-08-07T11:34:14.374514Z",
     "start_time": "2022-08-07T11:34:14.068465Z"
    }
   },
   "outputs": [
    {
     "data": {
      "text/plain": [
       "Pipeline(steps=[('SS', StandardScaler()),\n",
       "                ('xg',\n",
       "                 XGBClassifier(base_score=0.5, booster='gbtree',\n",
       "                               colsample_bylevel=1, colsample_bynode=1,\n",
       "                               colsample_bytree=1, gamma=0, gpu_id=-1,\n",
       "                               importance_type='gain',\n",
       "                               interaction_constraints='',\n",
       "                               learning_rate=0.300000012, max_delta_step=0,\n",
       "                               max_depth=6, min_child_weight=1, missing=nan,\n",
       "                               monotone_constraints='()', n_estimators=100,\n",
       "                               n_jobs=0, num_parallel_tree=1, random_state=0,\n",
       "                               reg_alpha=0, reg_lambda=1, scale_pos_weight=1,\n",
       "                               subsample=1, tree_method='exact',\n",
       "                               validate_parameters=1, verbosity=None))])"
      ]
     },
     "execution_count": 69,
     "metadata": {},
     "output_type": "execute_result"
    }
   ],
   "source": [
    "pipe_xg.fit(X_imp, y)"
   ]
  },
  {
   "cell_type": "code",
   "execution_count": 89,
   "metadata": {
    "ExecuteTime": {
     "end_time": "2022-08-07T16:04:40.461681Z",
     "start_time": "2022-08-07T16:04:40.428641Z"
    }
   },
   "outputs": [],
   "source": [
    "y_pred_xg = pipe_xg.predict(X_train_imp)\n",
    "cm_xg = confusion_matrix(y_train, y_pred_xg)"
   ]
  },
  {
   "cell_type": "code",
   "execution_count": 90,
   "metadata": {
    "ExecuteTime": {
     "end_time": "2022-08-07T16:04:42.427532Z",
     "start_time": "2022-08-07T16:04:42.342856Z"
    }
   },
   "outputs": [
    {
     "data": {
      "image/png": "[encoded data removed]",
      "text/plain": [
       "<Figure size 432x288 with 2 Axes>"
      ]
     },
     "metadata": {
      "needs_background": "light"
     },
     "output_type": "display_data"
    }
   ],
   "source": [
    "fig, ax = plt.subplots(figsize= (6,4))\n",
    "sns.heatmap(cm_xg, annot = True, fmt = 'g', cmap = 'summer')\n",
    "plt.ylabel('Predicted Results')\n",
    "plt.xlabel(\"Actual Results\")\n",
    "plt.show()"
   ]
  },
  {
   "cell_type": "code",
   "execution_count": 72,
   "metadata": {
    "ExecuteTime": {
     "end_time": "2022-08-07T11:34:27.847277Z",
     "start_time": "2022-08-07T11:34:27.818171Z"
    }
   },
   "outputs": [
    {
     "name": "stdout",
     "output_type": "stream",
     "text": [
      "              precision    recall  f1-score   support\n",
      "\n",
      "           0       0.76      0.90      0.82      4436\n",
      "           1       0.92      0.80      0.86      6563\n",
      "\n",
      "    accuracy                           0.84     10999\n",
      "   macro avg       0.84      0.85      0.84     10999\n",
      "weighted avg       0.86      0.84      0.85     10999\n",
      "\n"
     ]
    }
   ],
   "source": [
    "print(classification_report(y, y_pred_xg))"
   ]
  },
  {
   "cell_type": "code",
   "execution_count": 74,
   "metadata": {
    "ExecuteTime": {
     "end_time": "2022-08-07T11:34:44.357086Z",
     "start_time": "2022-08-07T11:34:44.333969Z"
    }
   },
   "outputs": [
    {
     "name": "stdout",
     "output_type": "stream",
     "text": [
      "              precision    recall  f1-score   support\n",
      "\n",
      "           0       0.75      0.91      0.82       900\n",
      "           1       0.92      0.80      0.86      1300\n",
      "\n",
      "    accuracy                           0.84      2200\n",
      "   macro avg       0.84      0.85      0.84      2200\n",
      "weighted avg       0.85      0.84      0.84      2200\n",
      "\n"
     ]
    }
   ],
   "source": [
    "y_pred_xg_test = pipe_xg.predict(X_test_imp)\n",
    "print(classification_report(y_test, y_pred_xg_test))"
   ]
  },
  {
   "cell_type": "code",
   "execution_count": null,
   "metadata": {},
   "outputs": [],
   "source": []
  },
  {
   "cell_type": "code",
   "execution_count": 76,
   "metadata": {
    "ExecuteTime": {
     "end_time": "2022-08-07T11:35:01.476885Z",
     "start_time": "2022-08-07T11:35:01.287746Z"
    }
   },
   "outputs": [
    {
     "name": "stdout",
     "output_type": "stream",
     "text": [
      "              precision    recall  f1-score   support\n",
      "\n",
      "           0       0.75      0.91      0.82       900\n",
      "           1       0.92      0.80      0.86      1300\n",
      "\n",
      "    accuracy                           0.84      2200\n",
      "   macro avg       0.84      0.85      0.84      2200\n",
      "weighted avg       0.85      0.84      0.84      2200\n",
      "\n"
     ]
    },
    {
     "data": {
      "image/png": "[encoded data removed]",
      "text/plain": [
       "<Figure size 432x288 with 2 Axes>"
      ]
     },
     "metadata": {
      "needs_background": "light"
     },
     "output_type": "display_data"
    },
    {
     "data": {
      "image/png": "[encoded data removed]",
      "text/plain": [
       "<Figure size 432x288 with 1 Axes>"
      ]
     },
     "metadata": {
      "needs_background": "light"
     },
     "output_type": "display_data"
    }
   ],
   "source": [
    "reports(y_test_imp, X_test_imp, pipe_xg)\n"
   ]
  },
  {
   "cell_type": "markdown",
   "metadata": {},
   "source": [
    "XGboost model has been able to define incorporate the data and succesfully give us a predictive model with an accuraccy score of 84%"
   ]
  },
  {
   "cell_type": "markdown",
   "metadata": {},
   "source": [
    "## Results for Final model using XGboost\n",
    "\n",
    "__Precision__ - Indicates the proportion of positive identifications (model predicted class 1) which were actually correct. A model which produces no false positives has a precision of 1.0.<br>\n",
    "__Recall__ - Indicates the proportion of actual positives which were correctly classified. A model which produces no false negatives has a recall of 1.0.<br>\n",
    "__F1 score__ - A combination of precision and recall. A perfect model achieves an F1 score of 1.0.<br>\n",
    "__Support__ - The number of samples each metric was calculated on.<br>\n",
    "__Accuracy__ - The accuracy of the model in decimal form. Perfect accuracy is equal to 1.0.<br>\n",
    "__Macro avg__ - Short for macro average, the average precision, recall and F1 score between classes. Macro avg doesn’t class imbalance into effort, so if you do have class imbalances, pay attention to this metric.<br>\n",
    "__Weighted avg__ - Short for weighted average, the weighted average precision, recall and F1 score between classes. Weighted means each metric is calculated with respect to how many samples there are in each class. This metric will favour the majority class (e.g. will give a high value when one class out performs another due to having more samples)."
   ]
  },
  {
   "cell_type": "code",
   "execution_count": 79,
   "metadata": {
    "ExecuteTime": {
     "end_time": "2022-08-07T11:40:23.990679Z",
     "start_time": "2022-08-07T11:40:23.975298Z"
    }
   },
   "outputs": [
    {
     "name": "stdout",
     "output_type": "stream",
     "text": [
      "              precision    recall  f1-score   support\n",
      "\n",
      "           0       0.75      0.91      0.82       900\n",
      "           1       0.92      0.80      0.86      1300\n",
      "\n",
      "    accuracy                           0.84      2200\n",
      "   macro avg       0.84      0.85      0.84      2200\n",
      "weighted avg       0.85      0.84      0.84      2200\n",
      "\n"
     ]
    }
   ],
   "source": [
    "print(classification_report(y_test, y_pred_xg_test))"
   ]
  },
  {
   "cell_type": "code",
   "execution_count": null,
   "metadata": {},
   "outputs": [],
   "source": []
  }
 ],
 "metadata": {
  "kernelspec": {
   "display_name": "Python 3",
   "language": "python",
   "name": "python3"
  },
  "language_info": {
   "codemirror_mode": {
    "name": "ipython",
    "version": 3
   },
   "file_extension": ".py",
   "mimetype": "text/x-python",
   "name": "python",
   "nbconvert_exporter": "python",
   "pygments_lexer": "ipython3",
   "version": "3.8.8"
  },
  "toc": {
   "base_numbering": 1,
   "nav_menu": {},
   "number_sections": false,
   "sideBar": true,
   "skip_h1_title": false,
   "title_cell": "Table of Contents",
   "title_sidebar": "Contents",
   "toc_cell": false,
   "toc_position": {},
   "toc_section_display": true,
   "toc_window_display": true
  },
  "varInspector": {
   "cols": {
    "lenName": 16,
    "lenType": 16,
    "lenVar": 40
   },
   "kernels_config": {
    "python": {
     "delete_cmd_postfix": "",
     "delete_cmd_prefix": "del ",
     "library": "var_list.py",
     "varRefreshCmd": "print(var_dic_list())"
    },
    "r": {
     "delete_cmd_postfix": ") ",
     "delete_cmd_prefix": "rm(",
     "library": "var_list.r",
     "varRefreshCmd": "cat(var_dic_list()) "
    }
   },
   "types_to_exclude": [
    "module",
    "function",
    "builtin_function_or_method",
    "instance",
    "_Feature"
   ],
   "window_display": false
  }
 },
 "nbformat": 4,
 "nbformat_minor": 4
}
